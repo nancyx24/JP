{
  "nbformat": 4,
  "nbformat_minor": 0,
  "metadata": {
    "colab": {
      "provenance": []
    },
    "kernelspec": {
      "name": "python3",
      "display_name": "Python 3"
    },
    "language_info": {
      "name": "python"
    }
  },
  "cells": [
    {
      "cell_type": "markdown",
      "source": [
        "### Helper Functions"
      ],
      "metadata": {
        "id": "z1d_E-Gayqx6"
      }
    },
    {
      "cell_type": "code",
      "execution_count": 2,
      "metadata": {
        "id": "P-Nm559-RtMf"
      },
      "outputs": [],
      "source": [
        "# import packages\n",
        "import numpy as np\n",
        "import matplotlib.pyplot as plt\n",
        "import math\n",
        "import seaborn as sns\n",
        "import random\n",
        "import pandas as pd\n",
        "from sklearn import preprocessing\n",
        "from sklearn.datasets import load_digits"
      ]
    },
    {
      "cell_type": "code",
      "source": [
        "# returns 1 / n * Hessian of a matrix\n",
        "def n_Hessian(A, eta):\n",
        "  d = len(A[0,:]) # number of columns of A\n",
        "  n = len(A) # number of rows of A\n",
        "  return 1 / n * np.matmul(A.T, A) + eta * np.identity(d)"
      ],
      "metadata": {
        "id": "CnYC2_tXKEfr"
      },
      "execution_count": 3,
      "outputs": []
    },
    {
      "cell_type": "code",
      "source": [
        "# stochastic gradient\n",
        "def gradient(A, b, vec):\n",
        "  n = len(A)\n",
        "  d = len(A[0,:])\n",
        "  one_hot = np.zeros((d, 1))\n",
        "  one_hot[random.randint(0, d - 1)] = 1\n",
        "  grad = 1 / n * np.expand_dims(np.squeeze(np.matmul((np.matmul(A, vec) - b).T, A)), axis=1) * one_hot\n",
        "  return grad"
      ],
      "metadata": {
        "id": "9K4BLLweJQ4m"
      },
      "execution_count": 5,
      "outputs": []
    },
    {
      "cell_type": "code",
      "source": [
        "# ground truth least squares optimal solution\n",
        "def least_squares_min(A, b, eta):\n",
        "  d = len(A[0,:])\n",
        "  H = np.matmul(A.T, A) + eta * np.identity(d)\n",
        "  return np.matmul(np.matmul(np.linalg.inv(H), A.T), b)"
      ],
      "metadata": {
        "id": "alnCwZd3Nyla"
      },
      "execution_count": 6,
      "outputs": []
    },
    {
      "cell_type": "code",
      "source": [
        "# vec is numpy array\n",
        "def objective(vec, A, b):\n",
        "  n = len(A)\n",
        "  return 1 / n * sum((np.matmul(A, vec) - b)**2)"
      ],
      "metadata": {
        "id": "WGqgEFf-8IM9"
      },
      "execution_count": 7,
      "outputs": []
    },
    {
      "cell_type": "markdown",
      "source": [
        "### Optimization Algorithms"
      ],
      "metadata": {
        "id": "UllYwRu8zHA5"
      }
    },
    {
      "cell_type": "code",
      "source": [
        "# gradient descent\n",
        "def gradient_descent(A, b, eta, l_rate, n_iter, x_0):\n",
        "  d = len(A[0, :])\n",
        "  H = n_Hessian(A, eta)\n",
        "  eigval, eigvec = np.linalg.eigh(H)\n",
        "  max_eig = max(eigval)\n",
        "\n",
        "  values = []\n",
        "  values.append(x_0)\n",
        "\n",
        "  for iter in range(1, n_iter):\n",
        "    x = values[iter - 1] - l_rate * gradient(A, b, values[iter - 1])\n",
        "    values.append(x)\n",
        "\n",
        "  values = [np.squeeze(vec) for vec in values]\n",
        "  b = np.squeeze(b)\n",
        "  w = least_squares_min(A, b, eta)\n",
        "  minimum = objective(w, A, b)\n",
        "  obj_sub = np.array([objective(vec, A, b) - minimum for vec in values])\n",
        "  return obj_sub"
      ],
      "metadata": {
        "id": "Ajz216LqPQ5s"
      },
      "execution_count": 8,
      "outputs": []
    },
    {
      "cell_type": "code",
      "source": [
        "# NGD algorithm\n",
        "def NGD(A, b, eta, n_iter, x_0):\n",
        "  # initial value\n",
        "  values = []\n",
        "  values.append(x_0)\n",
        "\n",
        "  for iter in range(1, n_iter):\n",
        "    grad = gradient(A, b, values[iter - 1])\n",
        "    grad_norm = np.sqrt(np.sum(grad**2))\n",
        "    x = values[iter - 1] - 1 / math.sqrt(iter) * grad / grad_norm\n",
        "    values.append(x)\n",
        "  \n",
        "  values = [np.squeeze(vec) for vec in values]\n",
        "  b = np.squeeze(b)\n",
        "  w = least_squares_min(A, b, eta)\n",
        "  minimum = objective(w, A, b)\n",
        "  obj_sub = np.array([objective(vec, A, b) - minimum for vec in values])\n",
        "  return obj_sub"
      ],
      "metadata": {
        "id": "fvN40p42s9XJ"
      },
      "execution_count": 9,
      "outputs": []
    },
    {
      "cell_type": "code",
      "source": [
        "# Adagrad algorithm\n",
        "def adagrad(A, b, eta, n_iter, x_0):\n",
        "  # values\n",
        "  values = []\n",
        "  values.append(x_0)\n",
        "\n",
        "  # gradients\n",
        "  grad_norms_sq = []\n",
        "\n",
        "  for iter in range(1, n_iter):\n",
        "    grad = gradient(A, b, values[iter - 1])\n",
        "    grad_norm_sq = np.sum(grad**2)\n",
        "    grad_norms_sq.append(grad_norm_sq)\n",
        "    x = values[iter - 1] - 1 / math.sqrt(np.sum(grad_norms_sq)) * grad\n",
        "    values.append(x)\n",
        "  \n",
        "  values = [np.squeeze(vec) for vec in values]\n",
        "  b = np.squeeze(b)\n",
        "  w = least_squares_min(A, b, eta)\n",
        "  minimum = objective(w, A, b)\n",
        "  obj_sub = np.array([objective(vec, A, b) - minimum for vec in values])\n",
        "  return obj_sub"
      ],
      "metadata": {
        "id": "GKQqZK1FuIL3"
      },
      "execution_count": 10,
      "outputs": []
    },
    {
      "cell_type": "code",
      "source": [
        "# adam algorithm\n",
        "def adam(A, b, eta, n_iter, alpha, beta_1, beta_2, eps, x_0):\n",
        "  d = len(A[0,:])\n",
        "\n",
        "  # initialize\n",
        "  values = []\n",
        "  values.append(x_0)\n",
        "  m_list = []\n",
        "  mv_0 = np.zeros((d, 1))\n",
        "  m_list.append(mv_0)\n",
        "  v_list = []\n",
        "  v_list.append(mv_0)\n",
        "\n",
        "  for iter in range(1, n_iter):\n",
        "    grad = gradient(A, b, values[iter - 1])\n",
        "\n",
        "    m = beta_1 * m_list[iter - 1] + (1 - beta_1) * grad\n",
        "    m_list.append(m)\n",
        "    v = beta_2 * v_list[iter - 1] + (1 - beta_2) * grad**2\n",
        "    v_list.append(v)\n",
        "\n",
        "    m_hat = m / (1 - beta_1**iter)\n",
        "    v_hat = v / (1 - beta_2**iter)\n",
        "    v_hat = np.array(v_hat).astype(float)\n",
        "    x = values[iter - 1] - alpha * m_hat / (np.sqrt(v_hat) + eps)\n",
        "    values.append(x)\n",
        "  \n",
        "  values = [np.squeeze(vec) for vec in values]\n",
        "  b = np.squeeze(b)\n",
        "  w = least_squares_min(A, b, eta)\n",
        "  minimum = objective(w, A, b)\n",
        "  obj_sub = np.array([objective(vec, A, b) - minimum for vec in values])\n",
        "  return obj_sub"
      ],
      "metadata": {
        "id": "58Y4Rtq_D7r9"
      },
      "execution_count": 11,
      "outputs": []
    },
    {
      "cell_type": "code",
      "source": [
        "# marchenko-pastur acceleration\n",
        "def marchenko_pastur(A, b, eta, n_iter, x_0):\n",
        "  # parameters\n",
        "  d = len(A[0,:])\n",
        "  n = len(A)\n",
        "  H = n_Hessian(A, eta)\n",
        "  eigval, eigvec = np.linalg.eigh(H)\n",
        "  max_eig = max(eigval)\n",
        "\n",
        "  # MP parameters\n",
        "  r = d / n\n",
        "  sigma_2 = 1\n",
        "  rho = (1 + r) / np.sqrt(r)\n",
        "  \n",
        "  # update vector of deltas\n",
        "  delta_0 = 0\n",
        "  delta_1 = 1 / (-1 * rho - delta_0)\n",
        "  delta = [delta_0, delta_1]\n",
        "\n",
        "  x_1 = x_0 - 1 / ((1 + r) * sigma_2) * gradient(A, b, x_0)\n",
        "  # update vector of values\n",
        "  values = [x_0, x_1]\n",
        "\n",
        "  # acceleration\n",
        "  for iter in range(2, n_iter):\n",
        "    # compute current delta\n",
        "    delta_curr = 1 / (-1 * rho - delta[iter - 1])\n",
        "    delta.append(delta_curr)\n",
        "    # compute current value\n",
        "    x_curr = values[iter - 1] + (1 + rho * delta[iter]) * (values[iter - 2] - values[iter - 1]) + delta[iter] * gradient(A, b, values[iter - 1]) / (sigma_2 * np.sqrt(r))\n",
        "    values.append(x_curr)\n",
        "  \n",
        "  values = [np.squeeze(vec) for vec in values]\n",
        "  b = np.squeeze(b)\n",
        "  w = least_squares_min(A, b, eta)\n",
        "  minimum = objective(w, A, b)\n",
        "  obj_sub = np.array([objective(vec, A, b) - minimum for vec in values])\n",
        "  return np.squeeze(obj_sub)"
      ],
      "metadata": {
        "id": "EaJmUlYNJmxy"
      },
      "execution_count": 12,
      "outputs": []
    },
    {
      "cell_type": "code",
      "source": [
        "# simplified marchenko-pastur distribution\n",
        "def marchenko_pastur_simp(A, b, eta, n_iter, x_0):\n",
        "  # parameters\n",
        "  d = len(A[0,:])\n",
        "  n = len(A)\n",
        "  H = n_Hessian(A, eta)\n",
        "  r = d / n\n",
        "  eigval, eigvec = np.linalg.eigh(H)\n",
        "  max_eig = max(eigval)\n",
        "  sigma_2 = 1\n",
        "\n",
        "  x_1 = x_0 - 1 / ((1 + r) * sigma_2) * gradient(A, b, x_0)\n",
        "  # update vector of values\n",
        "  values = [x_0, x_1]\n",
        "\n",
        "  for iter in range(2, n_iter):\n",
        "    # compute current value\n",
        "    x_curr = values[iter - 1] - min(1 / r, r) * (values[iter - 2] - values[iter - 1]) - 1 / sigma_2 * min(1, 1 / r) * gradient(A, b, values[iter - 1])\n",
        "    values.append(x_curr)\n",
        "\n",
        "  values = [np.squeeze(vec) for vec in values]\n",
        "  b = np.squeeze(b)\n",
        "  w = least_squares_min(A, b, eta)\n",
        "  minimum = objective(w, A, b)\n",
        "  obj_sub = np.array([objective(vec, A, b) - minimum for vec in values])\n",
        "  return np.squeeze(obj_sub)"
      ],
      "metadata": {
        "id": "ZR1hkHi4al6W"
      },
      "execution_count": 13,
      "outputs": []
    },
    {
      "cell_type": "code",
      "source": [
        "# decaying exponential acceleration\n",
        "def exponential(A, b, eta, n_iter, x_0):\n",
        "  # hyperparameters\n",
        "  d = len(A[0,:])\n",
        "  H = n_Hessian(A, eta)\n",
        "  lambda_0 = d / H.trace()\n",
        "  eigval, eigvec = np.linalg.eigh(H)\n",
        "  max_eig = max(eigval)\n",
        "\n",
        "  # initial guess\n",
        "  x_1 = x_0 - lambda_0 / 2 * gradient(A, b, x_0)\n",
        "  values = [x_0, x_1]\n",
        "  for iter in range(2, n_iter):\n",
        "    x_curr = values[iter - 1] + (iter - 1) / (iter + 1) * (values[iter - 1] - values[iter - 2]) - lambda_0 / (iter + 1) * gradient(A, b, values[iter - 1])\n",
        "    values.append(x_curr)\n",
        "\n",
        "  values = [np.squeeze(vec) for vec in values]\n",
        "  b = np.squeeze(b)\n",
        "  w = least_squares_min(A, b, eta)\n",
        "  minimum = objective(w, A, b)\n",
        "  obj_sub = np.array([objective(vec, A, b) - minimum for vec in values])\n",
        "  return np.squeeze(obj_sub)"
      ],
      "metadata": {
        "id": "8rzqLdC_Q7e7"
      },
      "execution_count": 14,
      "outputs": []
    },
    {
      "cell_type": "code",
      "source": [
        "# uniform acceleration\n",
        "def uniform(A, b, eta, n_iter, x_0):\n",
        "  # set up\n",
        "  d = len(A[0,:])\n",
        "  n = len(A)\n",
        "  H = n_Hessian(A, eta)\n",
        "  eigval, eigvec = np.linalg.eigh(H)\n",
        "  L = max(eigval) # largest eigenvalue\n",
        "  l = min(eigval) # minimum eigenvalue\n",
        "\n",
        "  # initial guess\n",
        "  x_1 = x_0\n",
        "\n",
        "  values = [x_0, x_1]\n",
        "  d_1 = -1 * (L + l) / 2\n",
        "  d_list = [0, d_1]\n",
        "  e_1 = -1 * (L - l)**2 / (4 * d_1 * (4 - 1))\n",
        "  e_list = [0, e_1]\n",
        "  m_1 = 1 / (d_1 - e_1)\n",
        "  m_list = [0, m_1]\n",
        "\n",
        "  for iter in range(2, n_iter):\n",
        "    # compute d\n",
        "    d_curr = -1 * (L + l) / 2 + e_list[iter - 1]\n",
        "    d_list.append(d_curr)\n",
        "    # compute e\n",
        "    e_curr = -1 * (L - l)**2 * (iter**2) / (4 * d_curr * (4 * iter**2 - 1))\n",
        "    e_list.append(e_curr)\n",
        "    # compute m\n",
        "    m_curr = 1 / (d_curr - e_curr + m_list[iter - 1] * d_curr * e_list[iter - 1])\n",
        "    m_list.append(m_curr)\n",
        "\n",
        "    # compute current value\n",
        "    x_curr = values[iter - 1] + (1 - m_curr * (d_curr - e_curr)) * (values[iter - 2] - values[iter - 1]) + m_curr * gradient(A, b, values[iter - 1])\n",
        "    values.append(x_curr)\n",
        "  \n",
        "  values = [np.squeeze(vec) for vec in values]\n",
        "  b = np.squeeze(b)\n",
        "  w = least_squares_min(A, b, eta)\n",
        "  minimum = objective(w, A, b)\n",
        "  obj_sub = np.array([objective(vec, A, b) - minimum for vec in values])\n",
        "  return np.squeeze(obj_sub)"
      ],
      "metadata": {
        "id": "_KSXTpEPZYL4"
      },
      "execution_count": 15,
      "outputs": []
    },
    {
      "cell_type": "code",
      "source": [
        "def optimization_stochastic(A, b, eta, n_iter, alpha, beta_1, beta_2, eps, x_0, disp, y_low, y_high):\n",
        "  exp_obj = exponential(A, b, eta, n_iter, x_0)\n",
        "  ngd_obj = NGD(A, b, eta, n_iter, x_0)\n",
        "  adagrad_obj = adagrad(A, b, eta, n_iter, x_0)\n",
        "  adam_obj = adam(A, b, eta, n_iter, alpha, beta_1, beta_2, eps, x_0)\n",
        "\n",
        "  x = range(n_iter)\n",
        "\n",
        "  if disp == 'one':\n",
        "    plt.plot(x, exp_obj, color = 'purple', label = 'Exponential')\n",
        "    plt.plot(x, ngd_obj, color = 'orange', label = \"NGD\")\n",
        "    plt.plot(x, adagrad_obj, color = 'm', label = 'Adagrad')\n",
        "    plt.plot(x, adam_obj, color = 'cyan', label = 'Adam')\n",
        "    plt.title('Performance of Optimization Algorithms')\n",
        "    plt.xlabel('Iteration')\n",
        "    plt.ylabel('Objective Suboptimality')\n",
        "    plt.yscale('log')\n",
        "    plt.legend()\n",
        "    plt.show()\n",
        "  \n",
        "  if disp == 'many':\n",
        "    plt.subplot(1, 4, 1)\n",
        "    plt.plot(x, exp_obj)\n",
        "    plt.title('Exponential')\n",
        "    plt.xlabel('Iteration')\n",
        "    plt.ylabel('Objective Suboptimality')\n",
        "    plt.ylim([y_low, y_high])\n",
        "    plt.yscale('log')\n",
        "\n",
        "    plt.subplot(1, 4, 2)\n",
        "    plt.plot(x, ngd_obj)\n",
        "    plt.title('NGD')\n",
        "    plt.xlabel('Iteration')\n",
        "    plt.ylabel('Objective Suboptimality')\n",
        "    plt.ylim([y_low, y_high])\n",
        "    plt.yscale('log')\n",
        "\n",
        "    plt.subplot(1, 4, 3)\n",
        "    plt.plot(x, adagrad_obj)\n",
        "    plt.title('Adagrad')\n",
        "    plt.xlabel('Iteration')\n",
        "    plt.ylabel('Objective Suboptimality')\n",
        "    plt.ylim([y_low, y_high])\n",
        "    plt.yscale('log')\n",
        "\n",
        "    plt.subplot(1, 4, 4)\n",
        "    plt.plot(x, adam_obj)\n",
        "    plt.title('Adam')\n",
        "    plt.xlabel('Iteration')\n",
        "    plt.ylabel('Objective Suboptimality')\n",
        "    plt.ylim([y_low, y_high])\n",
        "    plt.yscale('log')\n",
        "\n",
        "    plt.tight_layout()\n",
        "    plt.show()"
      ],
      "metadata": {
        "id": "BFwgeeMeRU_f"
      },
      "execution_count": 16,
      "outputs": []
    },
    {
      "cell_type": "markdown",
      "source": [
        "### Experiments with Synthetic Dataset"
      ],
      "metadata": {
        "id": "yaLpK_hAzS3_"
      }
    },
    {
      "cell_type": "code",
      "source": [
        "# second synthetic dataset\n",
        "d = 900\n",
        "n = 1000\n",
        "\n",
        "A = np.random.normal(0.0, 1.0, size=(n, d)) # generate matrix\n",
        "b = np.random.normal(0.0, 1.0, size=(n, 1)) # generate vector\n",
        "H = n_Hessian(A, 0)"
      ],
      "metadata": {
        "id": "WxqOHmQhzYIE"
      },
      "execution_count": 18,
      "outputs": []
    },
    {
      "cell_type": "code",
      "source": [
        "# plot all optimization algorithms\n",
        "x_0 = np.random.random(size = (d, 1)) * 1e-3\n",
        "optimization_stochastic(A, b, 0, 10000, 0.001, 0.9, 0.999, 1e-07, x_0, 'many', 1e-1, 10)"
      ],
      "metadata": {
        "colab": {
          "base_uri": "https://localhost:8080/",
          "height": 487
        },
        "id": "Cb9dLfIn3fwf",
        "outputId": "7a8b156a-7748-4f44-c53c-d2115f9ee5e2"
      },
      "execution_count": 19,
      "outputs": [
        {
          "output_type": "display_data",
          "data": {
            "text/plain": [
              "<Figure size 640x480 with 4 Axes>"
            ],
            "image/png": "[encoded data removed]"
          },
          "metadata": {}
        }
      ]
    }
  ]
}